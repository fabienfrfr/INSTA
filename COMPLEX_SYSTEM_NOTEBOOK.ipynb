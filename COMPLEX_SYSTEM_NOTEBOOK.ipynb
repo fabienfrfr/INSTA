{
 "cells": [
  {
   "cell_type": "markdown",
   "metadata": {},
   "source": [
    "# Systèmes complexes\n",
    "\n",
    "---\n",
    "\n",
    "But de ce notebook, Pour l'instant, ne faire que les formules. Ensuite code, ET enfin, le texte. (mettre des annotations et petite phrases d'idées si besoin)"
   ]
  },
  {
   "cell_type": "code",
   "execution_count": null,
   "metadata": {},
   "outputs": [],
   "source": [
    "### Code pour les animations"
   ]
  },
  {
   "cell_type": "markdown",
   "metadata": {},
   "source": [
    "**Avis/Reflexion personnel :** Pourquoi, \"moi\", je trouve les problemes physiques et leur modélisation mathématiques \"belle\". ?\n",
    "\n",
    "\n",
    "## Principe généraux\n",
    "\n",
    "- Projection d'une mesure (fonction mesurable) et repere.\n",
    "- Dimensionnalité et echelle - Théorème Pi (Théorème de Vaschy-Buckingham).\n",
    "\n",
    "Mettre des formules ici et dans chaque partie."
   ]
  },
  {
   "cell_type": "markdown",
   "metadata": {},
   "source": [
    "---\n",
    "\n",
    "## Mouvements individuels et collectifs\n",
    "\n",
    "<!--  ![system](fig/1_1.svg) -->\n",
    "\n",
    "Conservation du moment cinétique/angulaire, de la quantité de mvt et de l'energie cinétique :\n",
    "\n",
    "\n",
    "$$ \\left\\{\\begin{matrix}  \\vec{\\mathbf{r}_1} \\wedge  m_1 \\vec{\\mathbf{v}_1} + \\vec{\\mathbf{r}_2} \\wedge  m_2 \\vec{\\mathbf{v}_2} =  \\vec{\\mathbf{r}_1'} \\wedge  m_1 \\vec{\\mathbf{v}_1'} + \\vec{\\mathbf{r}_2'} \\wedge  m_2 \\vec{\\mathbf{v}_2'} \\\\ m_1 \\vec{\\mathbf{v}_1} + m_2 \\vec{\\mathbf{v}_2} = m_1 \\vec{\\mathbf{v}_1'} + m_2 \\vec{\\mathbf{v}_2'} \\\\ m_1 \\mathbf{v}_1^2 + m_2 \\mathbf{v}_2^2 = m_1 \\mathbf{v}_1'^2 + m_2 \\mathbf{v}_2'^2 \\end{matrix}\\right.$$ \n",
    "\n",
    "Le moment angulaire correspond à l'unique vecteur, tel que le volume du parallelepipede engendré par les deux vecteur vitesse et de rayon donne le produit mixte. On obtient les solutions vectorielles :\n",
    "\n",
    "$$\n",
    "\\begin{align}\n",
    "\\mathbf{v}'_1&=\\mathbf{v}_1-\\frac{2 m_2}{m_1+m_2} \\ \\frac{\\langle \\mathbf{v}_1-\\mathbf{v}_2,\\,\\mathbf{x}_1-\\mathbf{x}_2\\rangle}{\\|\\mathbf{x}_1-\\mathbf{x}_2\\|^2} \\ (\\mathbf{x}_1-\\mathbf{x}_2),\n",
    "\\\\\n",
    "\\mathbf{v}'_2&=\\mathbf{v}_2-\\frac{2 m_1}{m_1+m_2} \\ \\frac{\\langle \\mathbf{v}_2-\\mathbf{v}_1,\\,\\mathbf{x}_2-\\mathbf{x}_1\\rangle}{\\|\\mathbf{x}_2-\\mathbf{x}_1\\|^2} \\ (\\mathbf{x}_2-\\mathbf{x}_1)\n",
    "\\end{align}\n",
    "$$"
   ]
  },
  {
   "cell_type": "code",
   "execution_count": 2,
   "metadata": {},
   "outputs": [],
   "source": [
    "def elastic_collision(r1, r2, v1, v2, m1, m2):\n",
    "    # input variable\n",
    "    M = m1 + m2\n",
    "    # conservation law\n",
    "    d = np.linalg.norm(r1 - r2)**2\n",
    "    u1 = v1 - 2*m2 / M * np.dot(v1-v2, r1-r2) / d * (r1 - r2)\n",
    "    u2 = v2 - 2*m1 / M * np.dot(v2-v1, r2-r1) / d * (r2 - r1)\n",
    "    ## return new velocity\n",
    "    return np.array([u1,u2])\n",
    "\n",
    "def border_collision(X,V):\n",
    "    x,y = X\n",
    "    ### update position\n",
    "    V[0,x < 0] = -V[0,x < 0]\n",
    "    V[0,x > 1] = -V[0,x > 1]\n",
    "    V[1,y < 0] = -V[1,y < 0]\n",
    "    V[1,y > 1] = -V[1,y > 1]\n",
    "    return V"
   ]
  },
  {
   "cell_type": "markdown",
   "metadata": {},
   "source": [
    "ajout d'un \"champs\" sur le mouvement : gravité, champs electrique, etc. Revient à appliquer le principe fondamental de la dynamique d'un objet en un points, soit, sans frottement (on considère qu'a l'echelle moleculaire, ca n'a pas de sens), methode d'Euler :\n",
    "\n",
    "$$ m \\frac{\\mathrm{d} \\vec{\\mathbf{v}}}{\\mathrm{d} t} = m \\vec{\\mathbf{\\Gamma}}(\\vec{\\mathbf{x}}) \\Leftrightarrow \\vec{\\mathbf{v}_{t+1}} = \\vec{\\mathbf{v}_{t}} + dt.\\vec{\\mathbf{\\Gamma}}(\\vec{\\mathbf{x}}) $$"
   ]
  },
  {
   "cell_type": "code",
   "execution_count": null,
   "metadata": {},
   "outputs": [],
   "source": [
    "### Code avec un champs"
   ]
  },
  {
   "cell_type": "markdown",
   "metadata": {},
   "source": [
    "ajout d'un comportement collectif : notion de matiere active, marche aussi bien pour les arrangement des cristaux liquide que les mouvement dans le vivant (bacterie, essaim, etc.)\n",
    "\n",
    "$$\n",
    "\\begin{align}\n",
    "\\Theta_i(t+\\Delta t) = \\langle \\Theta_j \\rangle_{|r_i-r_j|<r} + \\eta_i(t)\n",
    "\\\\\n",
    "\\mathbf{r}_i(t+\\Delta t) = \\mathbf{r}_i(t) + v \\Delta t \\begin{pmatrix} \\cos\\Theta_i(t) \\\\ \\sin\\Theta_i(t) \\end{pmatrix}\n",
    "\\end{align}\n",
    "$$"
   ]
  },
  {
   "cell_type": "code",
   "execution_count": null,
   "metadata": {},
   "outputs": [],
   "source": [
    "### Code boids"
   ]
  },
  {
   "cell_type": "markdown",
   "metadata": {},
   "source": [
    "Conclusions, et questionnement si plus de particule et champs.\n",
    "\n",
    "---\n",
    "\n",
    "## Milieu continu et Transports\n",
    "\n",
    "BRANCHE 1 : principe du transport de matiere, déformation/ecoulement et chimie. Equation locale de la diffusion (on considere des petite boite où il y a diffusion suivant un rayon d'action). Dans le cas 1D et où le rayon d'action est de proche en proche :\n",
    "\n",
    "$$ \\begin{align} c(t+1, x_i) = h +  D \\sum_{r < R} c(t, x_j)  = h + D (c(t, x_{i+1})+c(t, x_{i-1})) \\end{align} $$\n",
    "\n",
    "Lorqu'on veut ajoute des molécule differente, on doit construire un systeme d'equation, mais lorqu'on a que deux reactif, on peut considérer une seule equation, ou la concentration correspond à l'etat actif/inactif du probleme :\n",
    "\n",
    "$$ c(t+1, x_i) = sign \\left [ h + \\sum_{k} D_k \\sum_{r < R_k} c(t, x_j) \\right ]  $$\n"
   ]
  },
  {
   "cell_type": "code",
   "execution_count": 3,
   "metadata": {},
   "outputs": [],
   "source": [
    "### Code equation de transfert discrete"
   ]
  },
  {
   "cell_type": "markdown",
   "metadata": {},
   "source": [
    "La repartition des points dans l'espace ne sont pas forcement d'une grille carré, mais peut avoir plusieur maillage différent : orthorombique, quadratique, hexagonale, etc. On parle de reseau de bravais 2D, et où la translation s'exprime tel que :\n",
    "\n",
    "$$ \\mathbf{R} = n_{1}\\mathbf{a}_{1} + n_{2}\\mathbf{a}_{2} $$"
   ]
  },
  {
   "cell_type": "code",
   "execution_count": null,
   "metadata": {},
   "outputs": [],
   "source": [
    "### Maillage"
   ]
  },
  {
   "cell_type": "markdown",
   "metadata": {},
   "source": [
    "Probleme, pour chaque point, on doit calculer le resultat de l'equation, et si on augmente le nombre de reactif, il devient compliqué à resoudre. Solution, approximation des milieux continue :\n",
    "\n",
    "$$ f(x_0 + a) = f(x_0) + a \\frac{\\mathrm{d} f(x_0) }{\\mathrm{d} x} + \\frac{a^2}{2} \\frac{\\mathrm{d}^2 f(x_0) }{\\mathrm{d} x^2} $$\n",
    "\n",
    "Lorqu'on remplace cette expression dans l'equation du transport discrete, on retrouve pour le cas d'un seul element :\n",
    "\n",
    "$$ \\frac{\\partial c}{\\partial t} = D \\frac{\\partial^2 c }{\\partial x}$$\n",
    "\n",
    "Lorsqu'on prend en compte des reactions, le probleme est plus complexe, il existe néamoins des equations de la cinétique chimique, tel que $U+2V \\rightarrow 3V $ et $V \\rightarrow P $, ce qui donne $[c_u]=-uv^2+f(1-u)$ et $[c_v]=+uv^2-(f+k)v$. On obtient :\n",
    "\n",
    "$$ \\begin{align}\n",
    "\\frac{\\partial c_u}{\\partial t} = D_u \\frac{\\partial^2 c_u }{\\partial x} -uv^2+f(1-u) \\\\\n",
    "\\frac{\\partial c_v}{\\partial t} = D_v \\frac{\\partial^2 c_v }{\\partial x} +uv^2-(f+k)v\n",
    "\\end{align}\n",
    "$$\n",
    "\n",
    "Pour résoudre, il y a plusieurs méthodes, la methodes des difference fini et les element fini. Pour les difference fini, on a pour le calcule de la derivée seconde en 2D (Laplacien) :\n",
    "\n",
    "$$ u''(x,y) =  \\frac{1}{h^2}  \\begin{bmatrix}  & 1 \\\\  1 & -4 & 1 \\\\& 1 \\end{bmatrix} u(x,y) $$\n",
    "\n",
    "Ce qui revient à calculer la moyenne glissante des points locaux (convolution). Pour la methodes des elements fini, on cherche à resoudre directement le systeme d'equation differentiel du gradient par resolution de la matrice. C'est l'equation \"normale\" :\n",
    "\n",
    "$$ \\frac{\\partial c}{\\partial t} = X^T(X.t-Y) = 0 \\Leftrightarrow X^TX = X^TY $$\n",
    "\n",
    "Cela revient aussi à linéariser le probleme et integrer la solution sur une droite."
   ]
  },
  {
   "cell_type": "code",
   "execution_count": null,
   "metadata": {},
   "outputs": [],
   "source": [
    "### equation reaction-diffusion (pattern)"
   ]
  },
  {
   "cell_type": "markdown",
   "metadata": {},
   "source": [
    "Conclusions, et questionnement sur la notion de chaos suivant certain parametre.\n",
    "\n",
    "---\n",
    "\n",
    "## Equilibre, Chaos et Fractales\n",
    "\n",
    "BRANCHE 2 : 1 solide dans un milieu avec plein de bille : mouvement brownien, où le deplacement moyen est quadratique au temps (principe de mesure et theoreme transfert) $ \\langle \\, X^2(t) \\ \\rangle \\ = \\ 2 \\, d \\, D \\, t$. On obtient une marche aléatoire :\n",
    "\n",
    "$$\\begin{align}\\mathbb{P}\\Big(X_{n+1}=j&\\mid\\, X_0=i_0, X_1=i_1,\\ldots, X_{n-1}=i_{n-1},X_n=i\\Big) = \\mathbb{P}\\left(X_{n+1}=j\\mid X_n=i\\right).\n",
    "\\end{align}$$ \n",
    "\n",
    "On peut considérer que lorsque les grosse bille touche à une structure alors elle se fige à celle ci (on peut imaginer qu'il y a des billes en fer au contact d'un ion magnétique). On parle alors de aggrégation qui limite la diffusion. Ce qui revient à avoir :\n",
    "\n",
    "$$ \\vec{F} = q \\vec{E} + q \\vec{v} \\wedge \\vec{B} \\Leftrightarrow X<R \\Rightarrow  X_{t+1} = X_t $$"
   ]
  },
  {
   "cell_type": "code",
   "execution_count": null,
   "metadata": {},
   "outputs": [],
   "source": [
    "### Code de l'equilibre vers le chaos"
   ]
  },
  {
   "cell_type": "markdown",
   "metadata": {},
   "source": [
    "On observe 2 choses, l'effet d'echelle : le mouvement brownien est fractale, ensuite, on observe qu'il y a des arbre de possiblité, ces arbres ont aussi superposé une structure fractale.\n",
    "\n",
    "$$ a^D ~;~ D_{\\text{box}}= \\lim_{\\varepsilon \\to 0} \\frac {\\log N(\\varepsilon)}{\\log (1/\\varepsilon)} $$\n",
    "\n",
    "Ainsi, on peut le demontrer par (Diffusion-Limited Aggregation, a Kinetic Critical Phenomenon, 1981) :\n",
    "\n",
    "$$ C(r) \\equiv N^{-1} \\sum_{r'} \\rho (r') \\rho(r'+r) $$\n",
    "\n",
    "Ce relation est de la forme d'une dimension fractale."
   ]
  },
  {
   "cell_type": "code",
   "execution_count": null,
   "metadata": {},
   "outputs": [],
   "source": [
    "### Code arbre fractal"
   ]
  },
  {
   "cell_type": "markdown",
   "metadata": {},
   "source": [
    "Ce mouvement est aléatoire et non deterministe, néamoins, lorsqu'on enleve le caractere aleatoire et qu'on se retreint à une seule direction, choc entre deux corps entre une boule grosse, on a un mouvement à trois corps non linéaire (+ champs statique = ressort), pouvant etre decrit par le systeme suivant (approche lagragienne) :\n",
    "\n",
    "$$ \\begin{align}\n",
    "{\\dot p_{\\theta_1}} &= \\frac{\\partial L}{\\partial \\theta_1} = -\\tfrac{1}{2} m l^2 \\left ( {\\dot \\theta_1} {\\dot \\theta_2} \\sin (\\theta_1-\\theta_2) + 3 \\frac{g}{l} \\sin \\theta_1 \\right ) \\\\\n",
    "{\\dot p_{\\theta_2}} &= \\frac{\\partial L}{\\partial \\theta_2} = -\\tfrac{1}{2} m l^2 \\left ( -{\\dot \\theta_1} {\\dot \\theta_2} \\sin (\\theta_1-\\theta_2) + \\frac{g}{l} \\sin \\theta_2 \\right ).\n",
    "\\end{align}$$\n",
    "\n",
    "Ce système possède des solutions périodiques décomposables en deux modes, mais il est chaotique, c’est-à-dire qu'il possède aussi des solutions ni périodiques ni pseudo-périodiques, mais présentant en permanence un mouvement original, et qu'il est alors sensible aux conditions initiales.\n",
    "\n",
    "$$ \\alpha \\sqrt{\\frac{l}{g}} $$\n",
    "\n",
    "Ainsi, le mouvement brownien aléatoire est en realité une conséquence des condition initiale, donc chaotique. Ainsi, il n'existe pas de mouvements aléatoire reel à l'echelle micro/macro."
   ]
  },
  {
   "cell_type": "code",
   "execution_count": null,
   "metadata": {},
   "outputs": [],
   "source": [
    "### Code systeme dynamique chaotique \"simple\""
   ]
  },
  {
   "cell_type": "markdown",
   "metadata": {},
   "source": [
    "Conclusions, et questionnement sur la notion de controle. un systeme chaotique à l'echelle micro, ne l'est pas forcement à l'echelle macro.\n",
    "\n",
    "---\n",
    "\n",
    "## Systeme et Traitement du signal\n",
    "\n",
    "Lorsqu'on veut etudier l'evolution d'un probleme à N corps, il y a l'etudes des frequence. Por cela, on perturbe le systeme avec une impulsion. Ce qui nous donne :\n",
    "\n",
    "$$ Y(s) = H(s)\\;X(s) $$\n",
    "\n",
    "Possibilité de l'integrer, réponse impulsionnelle.\n",
    "\n",
    "$$ y(t) = \\int_{-\\infty}^{\\infty} h(t-\\tau) u(\\tau) d\\tau = \\int_{-\\infty}^{\\infty} h(\\tau) u(t-\\tau) d\\tau. $$"
   ]
  },
  {
   "cell_type": "code",
   "execution_count": null,
   "metadata": {},
   "outputs": [],
   "source": [
    "### Code fonction de transfert"
   ]
  },
  {
   "cell_type": "markdown",
   "metadata": {},
   "source": [
    "Lorsqu'on a un signal, on peut le décomposer en serie de fourier.\n",
    "\n",
    "$$ f(x)=\\sum_{n=-\\infty}^{+\\infty}c_n (f){\\rm e}^{{\\rm i}2\\pi\\tfrac nTx} ~;~  c_n(f) = \\frac{1}{T} \\int_T f(t){\\rm e}^{-{\\rm i}2\\pi\\tfrac nTt}\\mathrm dt $$\n",
    "\n",
    "Ce signal permet de definir les harmonique...\n",
    "\n",
    "$$ \\delta \\mathrm{F} = \\mathrm{F_e}/N $$\n",
    "\n",
    "Completement equivalent\n",
    "\n",
    "$$ \\sum_{n=-\\infty}^{+\\infty}|c_n(f)|^2=\\frac1T\\int_T|f(t)|^2\\,\\mathrm dt= \\|f\\|^2 $$"
   ]
  },
  {
   "cell_type": "code",
   "execution_count": null,
   "metadata": {},
   "outputs": [],
   "source": [
    "### Decomposition en serie de fourier entrée.sortie"
   ]
  },
  {
   "cell_type": "markdown",
   "metadata": {},
   "source": [
    "Ce type de systeme peut atteindre une commande donnée si l'on applique une commande PID\n",
    "\n",
    "$$ u(t) = K_\\text{p} \\epsilon(t) + K_\\text{i} \\int_0^t \\epsilon(\\tau) \\,d\\tau + K_\\text{d} \\frac{d\\epsilon(t)}{dt} $$\n",
    "\n",
    "Probleme, choc physique. adoucir le controle (commande LQG plutot ? oui car Kalman) Cas de l'inversion d'un pendule double ? :\n",
    "\n",
    "$$ \\dot{\\mathbf{x}}(t) = A(t) \\mathbf{x}(t) + B(t) \\mathbf{u}(t) +  \\mathbf{v}(t) ~;~\n",
    "\\mathbf{y}(t) = C(t) \\mathbf{x}(t) + \\mathbf{w}(t)$$\n",
    "\n",
    "ici nous pouvons à partir des donnée atteindre valeurs de consigne (marche pour mécanique, mais aussi regulation température). Probleme entropique, entropie de shannon : \n",
    "\n",
    "$$ H_b(X)= -\\mathbb E [\\log_b {P(X)}] = \\sum_{i=1}^nP_i\\log_b \\left(\\frac{1}{P_i}\\right)=-\\sum_{i=1}^nP_i\\log_b P_i.\\,\\! $$"
   ]
  },
  {
   "cell_type": "code",
   "execution_count": null,
   "metadata": {},
   "outputs": [],
   "source": [
    "### Code PID"
   ]
  },
  {
   "cell_type": "markdown",
   "metadata": {},
   "source": [
    "Conclusions, et questionnement sur la notion de prise de decision.\n",
    "\n",
    "---\n",
    "\n",
    "## Décision et Potentiel\n",
    "\n",
    "Le probleme est qu'il est difficile de trouver l'equation d'un systeme, la fonction de transfert ne marche pas lorsqu'on a un probleme non linéaire. Possibilité, approximation chaine de Markov (marche aléatoire precedante), cas du modele d'Ising / Distribution de boltzman.\n",
    "\n",
    "$$ {{N_i}\\over{N}} = \\frac{g_i e^{-\\frac{E_i}{k_BT}}}{Z(T)} $$\n",
    "\n",
    "modelisation d'un puit de potentiel, approximation theoreme de transfert (monte carlo)\n",
    "\n",
    "$$ \\mathbb E\\left[\\varphi(X)\\right] \\stackrel{\\text{déf.}}{=} \\int_\\Omega \\varphi \\big(X(\\omega)\\big) \\mathbb{P}(\\mathrm d\\omega) = \\int_\\mathbb{R} \\varphi(x) \\mathbb P_X(\\mathrm dx), $$\n",
    "\n",
    "Cas plus simple"
   ]
  },
  {
   "cell_type": "code",
   "execution_count": null,
   "metadata": {},
   "outputs": [],
   "source": [
    "### Algorithme de monte carlo"
   ]
  },
  {
   "cell_type": "markdown",
   "metadata": {},
   "source": [
    "ajout d'une perturbation pour convergence : \n",
    "\n",
    "$$ Q^\\pi(s, a) = \\sum_{s'\\in S} [R(s,a,s') + \\gamma V^\\pi(s')]T(s,a,s') ~;~ V^\\pi(s) = \\sum_{s'\\in S} [R(s,\\pi(s),s') + \\gamma V^\\pi(s')]T(s,\\pi(s),s') $$ \n",
    "\n",
    "dilemme exploration/exploitation, notion de regret du probleme du bandit manchot donne l'esperance :\n",
    "\n",
    "$$ r_n = n\\mu^*-\\sum_{k=1}^n \\mathbb{E} (\\mu_{I_k}) $$"
   ]
  },
  {
   "cell_type": "code",
   "execution_count": null,
   "metadata": {},
   "outputs": [],
   "source": [
    "### algo de bellman sur chariot"
   ]
  },
  {
   "cell_type": "markdown",
   "metadata": {},
   "source": [
    "cas complexe, d'autre astuce\n",
    "\n",
    "---\n",
    "\n",
    "## Conclusion\n",
    "\n",
    "générale"
   ]
  }
 ],
 "metadata": {
  "kernelspec": {
   "display_name": "Python 3",
   "language": "python",
   "name": "python3"
  },
  "language_info": {
   "codemirror_mode": {
    "name": "ipython",
    "version": 3
   },
   "file_extension": ".py",
   "mimetype": "text/x-python",
   "name": "python",
   "nbconvert_exporter": "python",
   "pygments_lexer": "ipython3",
   "version": "3.8.10"
  }
 },
 "nbformat": 4,
 "nbformat_minor": 4
}
