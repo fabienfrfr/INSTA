{
 "cells": [
  {
   "cell_type": "code",
   "execution_count": 3,
   "metadata": {},
   "outputs": [],
   "source": [
    "#Ctrl+Right/Open in terminal\n",
    "#jupyter notebook\n",
    "import numpy as np"
   ]
  },
  {
   "cell_type": "markdown",
   "metadata": {},
   "source": [
    "# Brouillon de notes :"
   ]
  },
  {
   "cell_type": "raw",
   "metadata": {},
   "source": [
    "Problématique : Dans la vie de tout les jours : si on fait tomber une balle, elle tombe, on est même capable de prédire sa trajectoire au cours de l’expérience et de savoir son état final rien qu’avec les équation de la dynamique Newtonienne : « Dans un référentiel inertiel, la dérivée de la quantité de mouvement est égale à la somme des forces extérieures qui s'exercent sur le solide » (En réalité, la notion de « force » n’est pas si évidente). Pourtant, les phénomènes météo suivent aussi ce principe, mais ça n’empêche qu’on n’est pas capable de prédire précisément « quels temps il va faire demain ? ». \n",
    "\n",
    "→ Dans le premier cas, le système est « simple » (et encore) et dans le second, celui ci est dit « complexe ». En d’autre termes, on ne peut pas réduire un problème à des équations, il faut faire des expériences/simulation pour pouvoir observer l’émergence de phénomène. Un système complexe est très dépendant des conditions initiales et est composée d’un grand nombre d’entité empêchant de prévoir son comportement.\n",
    "\n",
    "On verra ici, différent systèmes complexe et on finira par voir si on peut finalement les contrôler."
   ]
  },
  {
   "cell_type": "markdown",
   "metadata": {},
   "source": [
    "## Morphogenèse (Turing)"
   ]
  },
  {
   "cell_type": "raw",
   "metadata": {},
   "source": [
    "Dans la nature ont observe plein de forme et de structure. Si on regarde la définition, forcement lié à la biologie du développement, moi ça ne me convient pas, car phénomène bien plus générale que dans le vivant ! Turing, connu pour « machine », mais moins connu pour ces travaux « morphogenèse », proposa un système de réaction-diffusion pour décrire les formes."
   ]
  },
  {
   "cell_type": "markdown",
   "metadata": {},
   "source": [
    "### Diffusion (macroscopique)"
   ]
  },
  {
   "cell_type": "raw",
   "metadata": {},
   "source": [
    "La diffusion de la matière, désigne la tendance naturelle d'un système à rendre uniforme (dans l’espace) le potentiel chimique de chacune des espèces chimiques qu'il comporte. D’un point de vue phénoménologique, c’est la relation entre le flux et le gradient d’une quantité.\n",
    "\n",
    "Le flux est une grandeurs extensive (qui s’additionne) qui correspond mesurer la quantité d’une variable (ici la matière N) qui traverse une surface (ici : J = N*S). Étant donnée que dans un système fermée, la quantité est conservée (« Rien ne se perd, rien ne se crée, tout se transforme » Lavoisier → prémisse du 1er principe de la thermodynamique), la variation de cette quantité dans le temps à une surface donnée, doit être égale à la variation de cette quantité dans un volume donnée (Théorème de transport de Reynolds). L’équation de conservation obtenu correspond à l’équation de la diffusion. "
   ]
  },
  {
   "cell_type": "markdown",
   "metadata": {},
   "source": [
    "### Réaction chimique (macroscopique)"
   ]
  },
  {
   "cell_type": "raw",
   "metadata": {},
   "source": [
    "Une réaction chimique est une transformation de la matière au cours de laquelle les espèces chimiques qui constituent la matière sont modifiées. Les atomes sont les briques de base de l’ensemble de la matière, lorsqu’il s’assemblent, il formes ce qu’on appelle des molécule. Lors d’une réaction chimique, on a toute les molécules qui vont se désassemblé par augmentation de l’énergie (Activation, T° par ex → plus de mvt) puis former de nouveau assemblage, pour atteindre un niveau d’énergie plus bas (prémisse du 2nd principe de la thermodynamique).  \n",
    "\n",
    "La vitesse d’une réaction dépend de la probabilité de collision entre les molécules et au cours de la réaction, le nombre de réactif diminue. Empiriquement, pour une réaction A+B → C, la variation de la molécule C est proportionnel à la somme des molécule A+B."
   ]
  },
  {
   "cell_type": "markdown",
   "metadata": {},
   "source": [
    "### Qu'est ce qu'une forme ?"
   ]
  },
  {
   "cell_type": "raw",
   "metadata": {},
   "source": [
    "Forme du latin forma correspond à ensemble des caractéristiques extérieures de quelque chose, mais aussi le contour d’un objet, la cause idéale qui détermine la matière à être telle ou telle chose… La morphogenèse vient du grec et répondrait à la question «  comment se forme les formes ? ». (A fond la forme, me dirais vous) Une définition plus mathématique serait de dire que c’est un processus d'apparition de non-uniformité au sein d'un milieu de distribution spatiale homogène à l'état initial. \n",
    "\n",
    "C’est à partir de cette définition que Turing eu une idée novatrice pour comprendre l’apparition des formes. Avant Turing, on pensait que pour chaque points d’un « motifs », il y avait un « gene » associé à celui ci (dans le sens de Mendel), Alan Turing propose un scénario impliquant deux espèces, qu’il appelle « morphogènes » et la conjonction des propriétés suivantes :\n",
    "    - l’espèce A active sa propre production ;\n",
    "    - l’espèce A active aussi la production de la seconde espèce B ;\n",
    "    - l’espèce B inhibe la production de A ;\n",
    "    - B diffuse plus vite que A\n",
    "Il suffit alors qu’une petite fluctuation locale induise un léger excès de l’activateur A pour que la production de A et de B s’accélère à cet endroit. L’excès de B, diffusant plus vite que l’excès de A, crée une couronne inhibitrice autour du point initial, isolant le pic de A par une zone plus riche en B. (https://interstices.info/alan-turing-les-motifs-et-les-structures-du-vivant/)"
   ]
  },
  {
   "cell_type": "markdown",
   "metadata": {},
   "source": [
    "### Resolution analytique diffusion"
   ]
  },
  {
   "cell_type": "raw",
   "metadata": {},
   "source": [
    "La diffusion correspond à l’égalité entre la variation temporelle et la variation surfacique de la concentration d’une molécule. L'evolution d'une grandeurs par rapport à une variable se nomme une fonction. En mathématique, il a été développer des outils pour étudier les variations infinitésimale d’une fonction pour en calculer son évolution, c’est la qu’est naît, le calcul différentiel (Newton → Euler). On note cette variation par un « d », la factorisation « df/dt » se nomme la dérivée et s’écrit « f’(x) ». L’approximation en chaque point s’écrit naturellement par la différence « f’(x0) = (f(x0-h)-f(x0))/h » ou h correspond au pas de temps infinitésimal (lim h->0). Le faite de chercher la valeur en « x+1 » permet de tracer l’évolution de l’équation et correspond à l’intégration mathématique. Pour résoudre analytiquement une équation différentiel, il nous faudrait (dans le cas le plus simple) trouver une fonction tel que « f’(x) = f(x) », c’est à dire que la dérivée est égale à la fonction. En intégrant manuellement, si on utilise les fonctions exposants (2^x), on observe « f’(x) = a*f(x) », cet intuition, nous a fait découvrir l’exponentiel noté « e » qui vérifie complétement l’équation (Leibniz)."
   ]
  },
  {
   "cell_type": "markdown",
   "metadata": {},
   "source": [
    "$$f'(x_{0}) = \\lim_{h \\to 0} \\frac{f(x_{1}) - f(x_{0})}{h} = f(x_{0}) $$"
   ]
  },
  {
   "cell_type": "raw",
   "metadata": {},
   "source": [
    "Pour resoudre analytiquement une equation differentiel, on peut donc remplacer le f(x,t) par une formulation exponentielle à adapter, si et seulement si celle ci est linéaire (pas de f’(x) avec un exposant). Dans le cas de la diffusion, c’est un peu plus compliquée, mais "
   ]
  },
  {
   "cell_type": "markdown",
   "metadata": {},
   "source": [
    "### Resolution equation différentielle par différence fini"
   ]
  },
  {
   "cell_type": "raw",
   "metadata": {},
   "source": [
    "Ecrire sour forme « différence fini »  → limitation\n",
    "\n",
    "# Resolution matricielle diffusion\n",
    "Changement de représentation → base des matrice → resolution de systeme d’equation finalement\n",
    "\n",
    "# Resolution spectrale diffusion (convolution)\n",
    "moyenne glissante (=convolution) → transformation math (très bref, juste idée) → résolution  \n",
    "\n",
    "\n",
    "# Reaction-diffusion par automate cellulaire (multi-echelle)\n",
    "Echelle micro ? Simplification automate → definition → idée de turing\n",
    "\n",
    "# Reseau de Bravais\n",
    "Comment agencer automate ? Liste des positions possible → base et limite pour chaque config (symetrie...)\n",
    "\n",
    "# Calcul de distance (euclidienne)\n",
    "different moyen de mesurer distance entre points → manathan + euclide (metric et topologie)\n",
    "\n",
    "# Diagramme de Voronoi\n",
    "découper une surface → representation des automates dans notre cas\n",
    "### Mouvement collectif (Vicsek)\n",
    "On a vue echelle macroscopique « pattern », mais à l’echelle micro ? Autre observation de systèmes complexe : les mvt collectif\n",
    "\n",
    "# Diffusion par collision (microscopique)\n",
    "Essayon modele reaction-diffusion micro → Principe collision, blabla → PAS DE MOTIF !\t\n",
    "\n",
    "# Auto-propulsion de particule\n",
    "Matiere active à l’echelle micro → modele de vicsek → analogie avec nuée → reflexion notion de force du modele (coherent physiquement?)\n",
    "\n",
    "# Qu'est ce qu'une force ? \n",
    "Pas du tout evident ! Juste entrainement + interaction forte (symetrie « action-reaction » et mvt rectiligne) → complexe car particule virtuelle point de vue quantique (non local!) → force = outils\n",
    "→ idée d’invariance et symétrie (un des 3 principes de base de la physique avec l’entropie et la quantification des etats)\n",
    "\n",
    "# Champs de vecteurs (geometrie analytique : Equation cartezienne)\n",
    "Ajouter des contrainte → champs de vecteur → contruction de champs par equation cartezienne → géometrie analytique\n",
    "\n",
    "# Symetrie axiale (pythagore + thales)\n",
    "Rebond force → symetrie axiale → thales et pythagore\n",
    "\n",
    "# Resolution de systeme d'equation non lineaire\n",
    "Comment resoudre le probleme precedant ? Cas linéaire → cas non linéaire (algo de recherche du zéro?)\n",
    "\n",
    "# Nombre complexe (forme polaire)\n",
    "\n",
    "# Diagramme de phase (ligne de champs)\n",
    "\n",
    "### Fractale (Mandelbrot)\n",
    "# Auto-similarité\n",
    "# Qu'est ce qu'une distance ?\n",
    "# Marche aléatoire\n",
    "# Diffusion limité par aggrégation\n",
    "# Theorie des graphes/réseaux\n",
    "# Classification des données (KNN)\n",
    "# Combinaison linéaire (translation+rotation)\n",
    "\n",
    "### Signaux (Fourier)\n",
    "# Qu'est ce qu'un signal ?\n",
    "# Décomposition en serie\n",
    "# Courbe de bezier\n",
    "# Interpolation\n",
    "# Intégration (simpson)\n",
    "\n",
    "### Décision (Bellman)\n",
    "# Les chaines de markov\n",
    "# Les réseaux de neurones\n",
    "# Comment prendre la meilleur décision ?\n",
    "# Clustering de donnée (Birch)\n",
    "# Géometrie booleene"
   ]
  }
 ],
 "metadata": {
  "kernelspec": {
   "display_name": "Python 3",
   "language": "python",
   "name": "python3"
  },
  "language_info": {
   "codemirror_mode": {
    "name": "ipython",
    "version": 3
   },
   "file_extension": ".py",
   "mimetype": "text/x-python",
   "name": "python",
   "nbconvert_exporter": "python",
   "pygments_lexer": "ipython3",
   "version": "3.8.5"
  }
 },
 "nbformat": 4,
 "nbformat_minor": 2
}
