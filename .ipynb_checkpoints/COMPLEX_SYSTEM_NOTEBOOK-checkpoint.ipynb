{
 "cells": [
  {
   "cell_type": "markdown",
   "metadata": {},
   "source": [
    "# Systèmes complexes\n",
    "\n",
    "---\n",
    "\n",
    "But de ce notebook, Pour l'instant, ne faire que les codes. Ensuite formule, ET enfin, le texte. (mettre des annotations et petite phrases d'idées si besoin)"
   ]
  },
  {
   "cell_type": "code",
   "execution_count": null,
   "metadata": {},
   "outputs": [],
   "source": [
    "### Code pour les animations"
   ]
  },
  {
   "cell_type": "markdown",
   "metadata": {},
   "source": [
    "**Avis/Reflexion personnel :** Pourquoi, \"moi\", je trouve les problemes physiques et leur modélisation mathématiques \"belle\". ?\n",
    "\n",
    "\n",
    "## Principe généraux\n",
    "\n",
    "- Projection d'une mesure et repere.\n",
    "- Dimensionnalité et echelle - Théorème Pi.\n",
    "\n",
    "Mettre des formules ici et dans chaque partie."
   ]
  },
  {
   "cell_type": "markdown",
   "metadata": {},
   "source": [
    "---\n",
    "\n",
    "## Mouvements individuels et collectifs\n",
    "\n",
    "principe de cinétique, invariance et symetrie : PFD sans gravité. mais bord et possible rotation de l'espace. Conservation du moment cinétique, de la quantité de mvt et de l'energie cinétique :\n",
    "\n",
    "$$ \\left\\{\\begin{matrix} m_1 . r_1 . v_1 . sin(\\alpha_1) + m_2 . r_2 . v_2 . sin(\\alpha_2) = m_1 . r_1 . v_1' . sin(\\alpha_1') + m_2 . r_2 . v_2'. sin(\\alpha_2') \\\\ m_1 . \\vec{v_1} + m_2 . \\vec{v_2} = m_1 . \\vec{v_1'} + m_2 . \\vec{v_2'} \\\\ m_1 . v_1^2 + m_2 . v_2^2 = m_1 . v_1'^2 + m_2 . v_2'^2 \\end{matrix}\\right. $$ "
   ]
  },
  {
   "cell_type": "code",
   "execution_count": null,
   "metadata": {},
   "outputs": [],
   "source": [
    "### Code pour le mouvement de chocs de mouvement rectiligne uniforme"
   ]
  },
  {
   "cell_type": "markdown",
   "metadata": {},
   "source": [
    "ajout d'un \"champs\" sur le mouvement : gravité, champs electrique, etc."
   ]
  },
  {
   "cell_type": "code",
   "execution_count": null,
   "metadata": {},
   "outputs": [],
   "source": [
    "### Code avec un champs"
   ]
  },
  {
   "cell_type": "markdown",
   "metadata": {},
   "source": [
    "ajout d'un \"comportement\" : Theorie des jeux et critaux"
   ]
  },
  {
   "cell_type": "code",
   "execution_count": null,
   "metadata": {},
   "outputs": [],
   "source": [
    "### Code boids"
   ]
  },
  {
   "cell_type": "markdown",
   "metadata": {},
   "source": [
    "Conclusions, et questionnement si plus de particule et champs.\n",
    "\n",
    "---\n",
    "\n",
    "## Milieu continu et Transports\n",
    "\n",
    "principe du transport de matiere, déformation/ecoulement et chimie."
   ]
  },
  {
   "cell_type": "code",
   "execution_count": null,
   "metadata": {},
   "outputs": [],
   "source": [
    "### Code transition vers continu"
   ]
  },
  {
   "cell_type": "markdown",
   "metadata": {},
   "source": [
    "choisir la diffusion (note "
   ]
  },
  {
   "cell_type": "code",
   "execution_count": null,
   "metadata": {},
   "outputs": [],
   "source": [
    "### Diffusion equation"
   ]
  },
  {
   "cell_type": "markdown",
   "metadata": {},
   "source": [
    "ajout d'une reaction chimique"
   ]
  },
  {
   "cell_type": "code",
   "execution_count": null,
   "metadata": {},
   "outputs": [],
   "source": [
    "### equation reaction-diffusion (pattern)"
   ]
  },
  {
   "cell_type": "markdown",
   "metadata": {},
   "source": [
    "Conclusions, et questionnement sur la notion de chaos suivant certain parametre.\n",
    "\n",
    "---\n",
    "\n",
    "## Equilibre, Chaos et Fractales\n",
    "\n",
    "principe"
   ]
  },
  {
   "cell_type": "code",
   "execution_count": null,
   "metadata": {},
   "outputs": [],
   "source": [
    "### Code de l'equilibre vers le chaos"
   ]
  },
  {
   "cell_type": "markdown",
   "metadata": {},
   "source": [
    "notion d'arbre / choix"
   ]
  },
  {
   "cell_type": "code",
   "execution_count": null,
   "metadata": {},
   "outputs": [],
   "source": [
    "### Code arbre fractal"
   ]
  },
  {
   "cell_type": "markdown",
   "metadata": {},
   "source": [
    "retour systeme dynamique complexe"
   ]
  },
  {
   "cell_type": "code",
   "execution_count": null,
   "metadata": {},
   "outputs": [],
   "source": [
    "### Code systeme dynamique chaotique \"simple\""
   ]
  },
  {
   "cell_type": "markdown",
   "metadata": {},
   "source": [
    "Conclusions, et questionnement sur la notion de controle.\n",
    "\n",
    "---\n",
    "\n",
    "## Systeme et Traitement du signal\n",
    "\n",
    "principe, Fourier."
   ]
  },
  {
   "cell_type": "code",
   "execution_count": null,
   "metadata": {},
   "outputs": [],
   "source": [
    "### Code fonction de transfert"
   ]
  },
  {
   "cell_type": "markdown",
   "metadata": {},
   "source": [
    "cas simple 1D"
   ]
  },
  {
   "cell_type": "code",
   "execution_count": null,
   "metadata": {},
   "outputs": [],
   "source": [
    "### Decomposition en serie de fourier entrée.sortie"
   ]
  },
  {
   "cell_type": "markdown",
   "metadata": {},
   "source": [
    "cas pour controle PID (communication BUS et echantillonage)"
   ]
  },
  {
   "cell_type": "code",
   "execution_count": null,
   "metadata": {},
   "outputs": [],
   "source": [
    "### Code PID"
   ]
  },
  {
   "cell_type": "markdown",
   "metadata": {},
   "source": [
    "Conclusions, et questionnement sur la notion de prise de decision.\n",
    "\n",
    "---\n",
    "\n",
    "## Décision et Potentiel\n",
    "\n",
    "principe, chaine de Markov et modelisation d'un puit de potentiel."
   ]
  },
  {
   "cell_type": "code",
   "execution_count": null,
   "metadata": {},
   "outputs": [],
   "source": [
    "### Chariot simple"
   ]
  },
  {
   "cell_type": "markdown",
   "metadata": {},
   "source": [
    "ajout d'une perturbation"
   ]
  },
  {
   "cell_type": "code",
   "execution_count": null,
   "metadata": {},
   "outputs": [],
   "source": [
    "### cas d'un systeme plus \"reel\" car bruité"
   ]
  },
  {
   "cell_type": "markdown",
   "metadata": {},
   "source": [
    "ajout de la 3D"
   ]
  },
  {
   "cell_type": "code",
   "execution_count": null,
   "metadata": {},
   "outputs": [],
   "source": [
    "### cas marche d'un robot"
   ]
  },
  {
   "cell_type": "markdown",
   "metadata": {},
   "source": [
    "conclusion."
   ]
  }
 ],
 "metadata": {
  "kernelspec": {
   "display_name": "Python 3",
   "language": "python",
   "name": "python3"
  },
  "language_info": {
   "codemirror_mode": {
    "name": "ipython",
    "version": 3
   },
   "file_extension": ".py",
   "mimetype": "text/x-python",
   "name": "python",
   "nbconvert_exporter": "python",
   "pygments_lexer": "ipython3",
   "version": "3.8.10"
  }
 },
 "nbformat": 4,
 "nbformat_minor": 4
}
