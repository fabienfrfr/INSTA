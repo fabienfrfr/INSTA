{
 "cells": [
  {
   "cell_type": "markdown",
   "metadata": {},
   "source": [
    "# Physiques des Systèmes Complexes\n",
    "\n",
    "---\n",
    "\n",
    "But de ce notebook, Pour l'instant, ne faire que les formules. Ensuite code, ET enfin, le texte. (mettre des annotations et petite phrases d'idées si besoin)"
   ]
  },
  {
   "cell_type": "code",
   "execution_count": null,
   "metadata": {},
   "outputs": [],
   "source": [
    "### Code pour les animations"
   ]
  },
  {
   "cell_type": "markdown",
   "metadata": {},
   "source": [
    "**Avis/Reflexion personnel :** Pourquoi, \"moi\", je trouve les problemes physiques et leur modélisation mathématiques \"belle\". ?\n",
    "\n",
    "\n",
    "## Principe généraux\n",
    "\n",
    "Le concept de mesure est une généralisation et une formalisation des mesures géométriques (distance/longueur, aire, volume) et d'autres notions courantes, telles que la masse et la probabilité des événements. Les mesures sont fondamentales dans la théorie des probabilités, la théorie de l'intégration et peuvent être généralisées pour prendre des valeurs négatives, comme pour la charge électrique. Les généralisations de mesure de grande envergure sont largement utilisées en physique quantique et en physique en général. On défini la mesure comme une application tel que l'union des famille dénombrable est égale à la somme des mesure disjointes :\n",
    "\n",
    "$$\\mu\\left(\\bigcup_{k=1}^\\infty E_k\\right)=\\sum_{k=1}^\\infty \\mu(E_k) $$\n",
    "\n",
    "Le théorème de Vaschy-Buckingham ou théorème Pi, est un des théorèmes de base de l'analyse dimensionnelle. Ce théorème établit que si une équation physique met en jeu n variables physiques, celles-ci dépendant de k unités fondamentales, alors il existe une équation équivalente mettant en jeu $n-k$ variables sans dimension construites à partir des variables originelles. Dans ce cas, on cherche à resoudre l'equation $f=0$, tel que les variables sans dimensions $\\pi$ soit le produit des variables physiques $q$.\n",
    "$$\n",
    "\\begin{align}\n",
    "f(q_1,q_2,\\ldots,q_n)=0\n",
    "\\\\\n",
    "F(\\pi_1,\\pi_2,\\ldots,\\pi_p)=0\n",
    "\\\\\n",
    "\\pi_i=q_1^{a_1}\\,q_2^{a_2} \\cdots q_n^{a_n}\n",
    "\\end{align}\n",
    "$$"
   ]
  },
  {
   "cell_type": "markdown",
   "metadata": {},
   "source": [
    "---\n",
    "\n",
    "## Mouvements individuels et collectifs\n",
    "\n",
    "<!-- ![system](fig/1_1.svg) -->\n",
    "\n",
    "Un choc élastique est un choc entre deux corps qui n’entraîne pas de modification de leur état interne1, notamment de leur masse. Dans un tel choc, l'énergie cinétique est conservée. Dans notre cas, nous considérons un ensemble de N corps (des billes) en collision dans un systeme isolé (pas d'echange avec l'exterieur), ce qui implique que les resultantes des collisions entre les paroies sont symétriques. Sans collision, le mouvement des billes suit une trajectoire rectiligne uniforme (1er loi de Newton), mais lorsqu'il y a un impact, on a une variation des vitesses qui apparait (2eme et 3eme loi de Newton). Pour calculer les changements de vitesse à l'impact, on utilise en coordonnée polaire $ (r,\\theta)$, les 3 loi de conservations fondamentales, tel que, la conservation du moment cinétique (ou angulaire), de la quantité de mouvement et de l'energie cinétique :\n",
    "\n",
    "\n",
    "$$ \\left\\{\\begin{matrix}  \\vec{\\mathbf{r}_1} \\wedge  m_1 \\vec{\\mathbf{v}_1} + \\vec{\\mathbf{r}_2} \\wedge  m_2 \\vec{\\mathbf{v}_2} =  \\vec{\\mathbf{r}_1'} \\wedge  m_1 \\vec{\\mathbf{v}_1'} + \\vec{\\mathbf{r}_2'} \\wedge  m_2 \\vec{\\mathbf{v}_2'} \\\\ m_1 \\vec{\\mathbf{v}_1} + m_2 \\vec{\\mathbf{v}_2} = m_1 \\vec{\\mathbf{v}_1'} + m_2 \\vec{\\mathbf{v}_2'} \\\\ m_1 \\mathbf{v}_1^2 + m_2 \\mathbf{v}_2^2 = m_1 \\mathbf{v}_1'^2 + m_2 \\mathbf{v}_2'^2 \\end{matrix}\\right.$$ \n",
    "\n",
    "On peut remarquer que si l'on avait un choc inélastique, une partie de l'energie cinétique serait converti en chaleurs/rayonnement, ce qui explique que tout systeme tend à se refroidir (à l'echelle moléculaire). Le moment angulaire correspond à l'unique vecteur, tel que le volume du parallelepipede engendré par les deux vecteur vitesse et de rayon donne le produit mixte. On obtient les solutions vectorielles :\n",
    "\n",
    "$$\n",
    "\\begin{align}\n",
    "\\mathbf{v}'_1&=\\mathbf{v}_1-\\frac{2 m_2}{m_1+m_2} \\ \\frac{\\langle \\mathbf{v}_1-\\mathbf{v}_2,\\,\\mathbf{x}_1-\\mathbf{x}_2\\rangle}{\\|\\mathbf{x}_1-\\mathbf{x}_2\\|^2} \\ (\\mathbf{x}_1-\\mathbf{x}_2),\n",
    "\\\\\n",
    "\\mathbf{v}'_2&=\\mathbf{v}_2-\\frac{2 m_1}{m_1+m_2} \\ \\frac{\\langle \\mathbf{v}_2-\\mathbf{v}_1,\\,\\mathbf{x}_2-\\mathbf{x}_1\\rangle}{\\|\\mathbf{x}_2-\\mathbf{x}_1\\|^2} \\ (\\mathbf{x}_2-\\mathbf{x}_1)\n",
    "\\end{align}\n",
    "$$\n",
    "\n",
    "Il est possible de faire tourner les bords à l'image d'une centifugeuse. L'ensemble du probleme est symétrique par rotation, si l'on veut appliquer une rotation, il suffit de faire le produit :\n",
    "\n",
    "$$\n",
    "R(\\theta).\\vec{\\mathbf{x}} = \\begin{pmatrix}\n",
    "\\cos \\theta & -\\sin \\theta \\\\[3pt]\n",
    "\\sin \\theta & \\cos \\theta \\\\\n",
    "\\end{pmatrix}.\\vec{\\mathbf{x}}\n",
    "$$\n",
    "\n",
    "Cette derniere opération permet de visualiser les force fictives, tel que la force centrifuge, ou la force de coriolis."
   ]
  },
  {
   "cell_type": "code",
   "execution_count": 2,
   "metadata": {},
   "outputs": [],
   "source": [
    "def elastic_collision(r1, r2, v1, v2, m1, m2):\n",
    "    # input variable\n",
    "    M = m1 + m2\n",
    "    # conservation law\n",
    "    d = np.linalg.norm(r1 - r2)**2\n",
    "    u1 = v1 - 2*m2 / M * np.dot(v1-v2, r1-r2) / d * (r1 - r2)\n",
    "    u2 = v2 - 2*m1 / M * np.dot(v2-v1, r2-r1) / d * (r2 - r1)\n",
    "    ## return new velocity\n",
    "    return np.array([u1,u2])\n",
    "\n",
    "def border_collision(X,V):\n",
    "    x,y = X\n",
    "    ### update position\n",
    "    V[0,x < 0] = -V[0,x < 0]\n",
    "    V[0,x > 1] = -V[0,x > 1]\n",
    "    V[1,y < 0] = -V[1,y < 0]\n",
    "    V[1,y > 1] = -V[1,y > 1]\n",
    "    return V"
   ]
  },
  {
   "cell_type": "markdown",
   "metadata": {},
   "source": [
    "Ici nous avons considéré un systeme en l'absence de champs, c'est à dire de \"force\" externe pouvant perturber la trajectoire de l'objet lorsqu'il est en trajectoire rectiligne uniforme. Un champs peut etre la gravité, l'electromagnétisme et les autres interactions fondamentale. En mécanique classique, cela revient à ajouter une force dans l'expression du principe fondamental de la dynamique. Pour résoudre ce probleme, il suffit d'integrer la solution en temps en reecrivant la définition de la différentielle (méthodes d'Euler). En l'absence de force de frottement (ce qui est absurde à cette echelle), on obtient pour un champs quelquonque variant dans l'espace :\n",
    "\n",
    "$$ m \\frac{\\mathrm{d} \\vec{\\mathbf{v}}}{\\mathrm{d} t} = m \\vec{\\mathbf{\\Gamma}}(\\vec{\\mathbf{x}}) \\Leftrightarrow \\vec{\\mathbf{v}_{t+1}} = \\vec{\\mathbf{v}_{t}} + dt.\\vec{\\mathbf{\\Gamma}}(\\vec{\\mathbf{x}}) $$"
   ]
  },
  {
   "cell_type": "code",
   "execution_count": null,
   "metadata": {},
   "outputs": [],
   "source": [
    "def field_perturbation(v,X,dt):\n",
    "    x,y = X\n",
    "    # spatial (exemple)\n",
    "    g = lambda x,y : (x*y, 9.81 + x+y)\n",
    "    G = g(x,y)\n",
    "    # euler method\n",
    "    v[0] += dt*G[0]\n",
    "    v[1] += dt*G[1]\n",
    "    return v"
   ]
  },
  {
   "cell_type": "markdown",
   "metadata": {},
   "source": [
    "Il est aussi possible que chaque corps génère un champs local, lorsque l'on fait cela, on peut faire apparaitre des mouvement collectif, on parle alors de matière active. Le modele le plus simple est celui de Vicsek, où il y a des particules ponctuelles autopropulsées qui évoluent à vitesse constante et alignent leur vitesse avec celle de leurs voisines en présence de bruit.\n",
    "\n",
    "$$\n",
    "\\begin{align}\n",
    "v(\\mathbf{r},\\Theta) = \\mathbf{r}.e^{i\\Theta} = \\Re(v) + i\\Im(v)\n",
    "\\\\\n",
    "\\Theta_i(t+\\Delta t) = \\langle \\Theta_j \\rangle_{|r_i-r_j|<R} + \\eta_i(t)\n",
    "\\\\\n",
    "\\mathbf{r}_i(t+\\Delta t) = \\mathbf{r}_i(t) + v \\Delta t \\begin{pmatrix} \\cos\\Theta_i(t) \\\\ \\sin\\Theta_i(t) \\end{pmatrix}\n",
    "\\end{align}\n",
    "$$\n",
    "\n",
    "Ce modele décrit une forme d'universalité, car il permet d'etudier des phénomènes physique (cristaux liquide), biologique (essaimage, bactérie) et sociologiques."
   ]
  },
  {
   "cell_type": "code",
   "execution_count": null,
   "metadata": {},
   "outputs": [],
   "source": [
    "def collective(v,Radius):\n",
    "    # complex\n",
    "    U = v[0]+1j*v[1]\n",
    "    # construct t+1\n",
    "    r = []\n",
    "    for u in U :\n",
    "        d = np.absolute(u - U)\n",
    "        index = np.where((d<Radius))[0]\n",
    "        # circular mean\n",
    "        polar_sum = np.sum(np.exp(1j*np.angle(U[index])))\n",
    "        angle_mean = np.angle(polar_sum)\n",
    "        r += [[np.cos(angle_mean), np.sin(angle_mean)]]\n",
    "    # return new pertubate position\n",
    "    return np.array(r)"
   ]
  },
  {
   "cell_type": "markdown",
   "metadata": {},
   "source": [
    "La visualisation de particule en collision sous forme de bille est un probleme qui permet d'avoir une vue d'ensemble, une intuition de la plupart des problemes physiques classique. Elle permet de comprendre les principes de conservation, l'emergence de la notion de frottement, la pression d'un gaz, la notion de température, etc. Néamoins, ce type d'approche intuitive ne permet pas de resoudre tout les problemes, il est necessaire pour cela faire appel à d'autre niveau d'abstraction. On verra dans les 2 prochaines partie, 2 cas, l'un où l'on a transport de matière avec des réactions chimiques et l'autre où les particules formes des aggrégats.\n",
    "\n",
    "---\n",
    "\n",
    "## Milieu continu et Transports\n",
    "\n",
    "BRANCHE 1 : principe du transport de matiere, déformation/ecoulement et chimie. Equation locale de la diffusion (on considere des petite boite où il y a diffusion suivant un rayon d'action). Dans le cas 1D et où le rayon d'action est de proche en proche :\n",
    "\n",
    "$$ \\begin{align} c(t+1, x_i) = h +  D \\sum_{r < R} c(t, x_j)  = h + D (c(t, x_{i+1})+c(t, x_{i-1})) \\end{align} $$\n",
    "\n",
    "Lorqu'on veut ajoute des molécule differente, on doit construire un systeme d'equation, mais lorqu'on a que deux reactif, on peut considérer une seule equation, ou la concentration correspond à l'etat actif/inactif du probleme :\n",
    "\n",
    "$$ c(t+1, x_i) = sign \\left [ h + \\sum_{k} D_k \\sum_{r < R_k} c(t, x_j) \\right ]  $$\n"
   ]
  },
  {
   "cell_type": "code",
   "execution_count": 3,
   "metadata": {},
   "outputs": [],
   "source": [
    "### Code equation de transfert discrete"
   ]
  },
  {
   "cell_type": "markdown",
   "metadata": {},
   "source": [
    "La repartition des points dans l'espace ne sont pas forcement d'une grille carré, mais peut avoir plusieur maillage différent : orthorombique, quadratique, hexagonale, etc. On parle de reseau de bravais 2D, et où la translation s'exprime tel que :\n",
    "\n",
    "$$ \\mathbf{R} = n_{1}\\mathbf{a}_{1} + n_{2}\\mathbf{a}_{2} $$"
   ]
  },
  {
   "cell_type": "code",
   "execution_count": null,
   "metadata": {},
   "outputs": [],
   "source": [
    "### Maillage"
   ]
  },
  {
   "cell_type": "markdown",
   "metadata": {},
   "source": [
    "Probleme, pour chaque point, on doit calculer le resultat de l'equation, et si on augmente le nombre de reactif, il devient compliqué à resoudre. Solution, approximation des milieux continue :\n",
    "\n",
    "$$ f(x_0 + a) = f(x_0) + a \\frac{\\mathrm{d} f(x_0) }{\\mathrm{d} x} + \\frac{a^2}{2} \\frac{\\mathrm{d}^2 f(x_0) }{\\mathrm{d} x^2} $$\n",
    "\n",
    "Lorqu'on remplace cette expression dans l'equation du transport discrete, on retrouve pour le cas d'un seul element :\n",
    "\n",
    "$$ \\frac{\\partial c}{\\partial t} = D \\frac{\\partial^2 c }{\\partial x}$$\n",
    "\n",
    "Lorsqu'on prend en compte des reactions, le probleme est plus complexe, il existe néamoins des equations de la cinétique chimique, tel que $U+2V \\rightarrow 3V $ et $V \\rightarrow P $, ce qui donne $[c_u]=-uv^2+f(1-u)$ et $[c_v]=+uv^2-(f+k)v$. On obtient :\n",
    "\n",
    "$$ \\begin{align}\n",
    "\\frac{\\partial c_u}{\\partial t} = D_u \\frac{\\partial^2 c_u }{\\partial x} -uv^2+f(1-u) \\\\\n",
    "\\frac{\\partial c_v}{\\partial t} = D_v \\frac{\\partial^2 c_v }{\\partial x} +uv^2-(f+k)v\n",
    "\\end{align}\n",
    "$$\n",
    "\n",
    "Pour résoudre, il y a plusieurs méthodes, la methodes des difference fini et les element fini. Pour les difference fini, on a pour le calcule de la derivée seconde en 2D (Laplacien) :\n",
    "\n",
    "$$ u''(x,y) =  \\frac{1}{h^2}  \\begin{bmatrix}  & 1 \\\\  1 & -4 & 1 \\\\& 1 \\end{bmatrix} u(x,y) $$\n",
    "\n",
    "Ce qui revient à calculer la moyenne glissante des points locaux (convolution). Pour la methodes des elements fini, on cherche à resoudre directement le systeme d'equation differentiel du gradient par resolution de la matrice. C'est l'equation \"normale\" :\n",
    "\n",
    "$$ \\frac{\\partial c}{\\partial t} = X^T(X.t-Y) = 0 \\Leftrightarrow X^TX = X^TY $$\n",
    "\n",
    "Cela revient aussi à linéariser le probleme et integrer la solution sur une droite."
   ]
  },
  {
   "cell_type": "code",
   "execution_count": null,
   "metadata": {},
   "outputs": [],
   "source": [
    "### equation reaction-diffusion (pattern)"
   ]
  },
  {
   "cell_type": "markdown",
   "metadata": {},
   "source": [
    "Conclusions, et questionnement sur la notion de chaos suivant certain parametre.\n",
    "\n",
    "---\n",
    "\n",
    "## Equilibre, Chaos et Fractales\n",
    "\n",
    "BRANCHE 2 : 1 solide dans un milieu avec plein de bille : mouvement brownien, où le deplacement moyen est quadratique au temps (principe de mesure et theoreme transfert) $ \\langle \\, X^2(t) \\ \\rangle \\ = \\ 2 \\, d \\, D \\, t$. On obtient une marche aléatoire :\n",
    "\n",
    "$$\\begin{align}\\mathbb{P}\\Big(X_{n+1}=j&\\mid\\, X_0=i_0, X_1=i_1,\\ldots, X_{n-1}=i_{n-1},X_n=i\\Big) = \\mathbb{P}\\left(X_{n+1}=j\\mid X_n=i\\right).\n",
    "\\end{align}$$ \n",
    "\n",
    "On peut considérer que lorsque les grosse bille touche à une structure alors elle se fige à celle ci (on peut imaginer qu'il y a des billes en fer au contact d'un ion magnétique). On parle alors de aggrégation qui limite la diffusion. Ce qui revient à avoir :\n",
    "\n",
    "$$ \\vec{F} = q \\vec{E} + q \\vec{v} \\wedge \\vec{B} \\Leftrightarrow X<R \\Rightarrow  X_{t+1} = X_t $$"
   ]
  },
  {
   "cell_type": "code",
   "execution_count": null,
   "metadata": {},
   "outputs": [],
   "source": [
    "### Code de l'equilibre vers le chaos"
   ]
  },
  {
   "cell_type": "markdown",
   "metadata": {},
   "source": [
    "On observe 2 choses, l'effet d'echelle : le mouvement brownien est fractale, ensuite, on observe qu'il y a des arbre de possiblité, ces arbres ont aussi superposé une structure fractale.\n",
    "\n",
    "$$ a^D ~;~ D_{\\text{box}}= \\lim_{\\varepsilon \\to 0} \\frac {\\log N(\\varepsilon)}{\\log (1/\\varepsilon)} $$\n",
    "\n",
    "Ainsi, on peut le demontrer par (Diffusion-Limited Aggregation, a Kinetic Critical Phenomenon, 1981) :\n",
    "\n",
    "$$ C(r) \\equiv N^{-1} \\sum_{r'} \\rho (r') \\rho(r'+r) $$\n",
    "\n",
    "Ce relation est de la forme d'une dimension fractale."
   ]
  },
  {
   "cell_type": "code",
   "execution_count": null,
   "metadata": {},
   "outputs": [],
   "source": [
    "### Code arbre fractal"
   ]
  },
  {
   "cell_type": "markdown",
   "metadata": {},
   "source": [
    "<!-- ![system](fig/3_1.svg) -->\n",
    "\n",
    "Ce mouvement est aléatoire et non deterministe, néamoins, lorsqu'on enleve le caractere aleatoire et qu'on se retreint à une seule direction, choc entre deux corps entre une boule grosse, on a un mouvement à trois corps non linéaire (+ champs statique = ressort), pouvant etre decrit par le systeme suivant (approche lagragienne) :\n",
    "\n",
    "$$ \\begin{align}\n",
    "{\\dot p_{\\theta_1}} &= \\frac{\\partial L}{\\partial \\theta_1} = -\\tfrac{1}{2} m l^2 \\left ( {\\dot \\theta_1} {\\dot \\theta_2} \\sin (\\theta_1-\\theta_2) + 3 \\frac{g}{l} \\sin \\theta_1 \\right ) \\\\\n",
    "{\\dot p_{\\theta_2}} &= \\frac{\\partial L}{\\partial \\theta_2} = -\\tfrac{1}{2} m l^2 \\left ( -{\\dot \\theta_1} {\\dot \\theta_2} \\sin (\\theta_1-\\theta_2) + \\frac{g}{l} \\sin \\theta_2 \\right ).\n",
    "\\end{align}$$\n",
    "\n",
    "Ce système possède des solutions périodiques décomposables en deux modes, mais il est chaotique, c’est-à-dire qu'il possède aussi des solutions ni périodiques ni pseudo-périodiques, mais présentant en permanence un mouvement original, et qu'il est alors sensible aux conditions initiales.\n",
    "\n",
    "$$ \\alpha \\sqrt{\\frac{l}{g}} $$\n",
    "\n",
    "Ainsi, le mouvement brownien aléatoire est en realité une conséquence des condition initiale, donc chaotique. Ainsi, il n'existe pas de mouvements aléatoire reel à l'echelle micro/macro."
   ]
  },
  {
   "cell_type": "code",
   "execution_count": null,
   "metadata": {},
   "outputs": [],
   "source": [
    "### Code systeme dynamique chaotique \"simple\""
   ]
  },
  {
   "cell_type": "markdown",
   "metadata": {},
   "source": [
    "Conclusions, et questionnement sur la notion de controle. un systeme chaotique à l'echelle micro, ne l'est pas forcement à l'echelle macro.\n",
    "\n",
    "---\n",
    "\n",
    "## Systeme et Traitement du signal\n",
    "\n",
    "Lorsqu'on veut etudier l'evolution d'un probleme à N corps, il y a l'etudes des frequence. Por cela, on perturbe le systeme avec une impulsion. Ce qui nous donne :\n",
    "\n",
    "$$ Y(s) = H(s)\\;X(s) $$\n",
    "\n",
    "Possibilité de l'integrer, réponse impulsionnelle.\n",
    "\n",
    "$$ y(t) = \\int_{-\\infty}^{\\infty} h(t-\\tau) u(\\tau) d\\tau = \\int_{-\\infty}^{\\infty} h(\\tau) u(t-\\tau) d\\tau. $$"
   ]
  },
  {
   "cell_type": "code",
   "execution_count": null,
   "metadata": {},
   "outputs": [],
   "source": [
    "### Code fonction de transfert"
   ]
  },
  {
   "cell_type": "markdown",
   "metadata": {},
   "source": [
    "Lorsqu'on a un signal, on peut le décomposer en serie de fourier.\n",
    "\n",
    "$$ f(x)=\\sum_{n=-\\infty}^{+\\infty}c_n (f){\\rm e}^{{\\rm i}2\\pi\\tfrac nTx} ~;~  c_n(f) = \\frac{1}{T} \\int_T f(t){\\rm e}^{-{\\rm i}2\\pi\\tfrac nTt}\\mathrm dt $$\n",
    "\n",
    "Ce signal permet de definir les harmonique...\n",
    "\n",
    "$$ \\delta \\mathrm{F} = \\mathrm{F_e}/N $$\n",
    "\n",
    "Completement equivalent\n",
    "\n",
    "$$ \\sum_{n=-\\infty}^{+\\infty}|c_n(f)|^2=\\frac1T\\int_T|f(t)|^2\\,\\mathrm dt= \\|f\\|^2 $$"
   ]
  },
  {
   "cell_type": "code",
   "execution_count": null,
   "metadata": {},
   "outputs": [],
   "source": [
    "### Decomposition en serie de fourier entrée.sortie"
   ]
  },
  {
   "cell_type": "markdown",
   "metadata": {},
   "source": [
    "Ce type de systeme peut atteindre une commande donnée si l'on applique une commande PID\n",
    "\n",
    "$$ u(t) = K_\\text{p} \\epsilon(t) + K_\\text{i} \\int_0^t \\epsilon(\\tau) \\,d\\tau + K_\\text{d} \\frac{d\\epsilon(t)}{dt} $$\n",
    "\n",
    "Probleme, choc physique. adoucir le controle (commande LQG plutot ? oui car Kalman) Cas de l'inversion d'un pendule double ? :\n",
    "\n",
    "$$ \\dot{\\mathbf{x}}(t) = A(t) \\mathbf{x}(t) + B(t) \\mathbf{u}(t) +  \\mathbf{v}(t) ~;~\n",
    "\\mathbf{y}(t) = C(t) \\mathbf{x}(t) + \\mathbf{w}(t)$$\n",
    "\n",
    "ici nous pouvons à partir des donnée atteindre valeurs de consigne (marche pour mécanique, mais aussi regulation température). Probleme entropique, entropie de shannon : \n",
    "\n",
    "$$ H_b(X)= -\\mathbb E [\\log_b {P(X)}] = \\sum_{i=1}^nP_i\\log_b \\left(\\frac{1}{P_i}\\right)=-\\sum_{i=1}^nP_i\\log_b P_i.\\,\\! $$"
   ]
  },
  {
   "cell_type": "code",
   "execution_count": null,
   "metadata": {},
   "outputs": [],
   "source": [
    "### Code PID"
   ]
  },
  {
   "cell_type": "markdown",
   "metadata": {},
   "source": [
    "Conclusions, et questionnement sur la notion de prise de decision.\n",
    "\n",
    "---\n",
    "\n",
    "## Décision et Potentiel\n",
    "\n",
    "Le probleme est qu'il est difficile de trouver l'equation d'un systeme, la fonction de transfert ne marche pas lorsqu'on a un probleme non linéaire. Possibilité, approximation chaine de Markov (marche aléatoire precedante), cas du modele d'Ising / Distribution de boltzman. espace des phase (Représentation d'état, portrait de phase) plutot ?\n",
    "\n",
    "$$ {{N_i}\\over{N}} = \\frac{g_i e^{-\\frac{E_i}{k_BT}}}{Z(T)} $$\n",
    "\n",
    "modelisation d'un puit de potentiel, approximation theoreme de transfert (monte carlo)\n",
    "\n",
    "$$ \\mathbb E\\left[\\varphi(X)\\right] \\stackrel{\\text{déf.}}{=} \\int_\\Omega \\varphi \\big(X(\\omega)\\big) \\mathbb{P}(\\mathrm d\\omega) = \\int_\\mathbb{R} \\varphi(x) \\mathbb P_X(\\mathrm dx), $$\n",
    "\n",
    "Cas plus simple"
   ]
  },
  {
   "cell_type": "code",
   "execution_count": null,
   "metadata": {},
   "outputs": [],
   "source": [
    "### Algorithme de monte carlo"
   ]
  },
  {
   "cell_type": "markdown",
   "metadata": {},
   "source": [
    "ajout d'une perturbation pour convergence : \n",
    "\n",
    "$$ Q^\\pi(s, a) = \\sum_{s'\\in S} [R(s,a,s') + \\gamma V^\\pi(s')]T(s,a,s') ~;~ V^\\pi(s) = \\sum_{s'\\in S} [R(s,\\pi(s),s') + \\gamma V^\\pi(s')]T(s,\\pi(s),s') $$ \n",
    "\n",
    "dilemme exploration/exploitation, notion de regret du probleme du bandit manchot donne l'esperance :\n",
    "\n",
    "$$ r_n = n\\mu^*-\\sum_{k=1}^n \\mathbb{E} (\\mu_{I_k}) $$"
   ]
  },
  {
   "cell_type": "code",
   "execution_count": null,
   "metadata": {},
   "outputs": [],
   "source": [
    "### algo de bellman sur chariot"
   ]
  },
  {
   "cell_type": "markdown",
   "metadata": {},
   "source": [
    "cas complexe, d'autre astuce\n",
    "\n",
    "---\n",
    "\n",
    "## Conclusion\n",
    "\n",
    "générale"
   ]
  }
 ],
 "metadata": {
  "kernelspec": {
   "display_name": "Python 3",
   "language": "python",
   "name": "python3"
  },
  "language_info": {
   "codemirror_mode": {
    "name": "ipython",
    "version": 3
   },
   "file_extension": ".py",
   "mimetype": "text/x-python",
   "name": "python",
   "nbconvert_exporter": "python",
   "pygments_lexer": "ipython3",
   "version": "3.8.10"
  }
 },
 "nbformat": 4,
 "nbformat_minor": 4
}
